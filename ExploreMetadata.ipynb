{
 "cells": [
  {
   "cell_type": "markdown",
   "id": "0c33c239",
   "metadata": {},
   "source": [
    "# Imports"
   ]
  },
  {
   "cell_type": "code",
   "execution_count": 1,
   "id": "056a8388",
   "metadata": {},
   "outputs": [
    {
     "name": "stderr",
     "output_type": "stream",
     "text": [
      "/Users/remipetitpierre/opt/anaconda3/lib/python3.8/site-packages/pandas/core/computation/expressions.py:20: UserWarning: Pandas requires version '2.7.3' or newer of 'numexpr' (version '2.7.1' currently installed).\n",
      "  from pandas.core.computation.check import NUMEXPR_INSTALLED\n"
     ]
    }
   ],
   "source": [
    "import numpy as np\n",
    "import pandas as pd\n",
    "import matplotlib.pyplot as plt\n",
    "\n",
    "import tqdm, glob\n",
    "\n",
    "%matplotlib inline"
   ]
  },
  {
   "cell_type": "markdown",
   "id": "c02385dd",
   "metadata": {},
   "source": [
    "# Functions"
   ]
  },
  {
   "cell_type": "code",
   "execution_count": 2,
   "id": "20902846",
   "metadata": {},
   "outputs": [],
   "source": [
    "def displayCols(df):\n",
    "    \n",
    "    length = len(df)\n",
    "    print('Length:', length)\n",
    "    \n",
    "    drop_cols = []\n",
    "    for col in df.columns:\n",
    "        col_presence = len(df.dropna(subset=[col]))/length\n",
    "        if (col_presence < 0.01) or (len(df[col].dropna().astype(str).unique()) == 1):\n",
    "            drop_cols.append(col)\n",
    "        else:\n",
    "            pbar = tqdm.tqdm(total=1000, desc=col.ljust(25))\n",
    "            pbar.update(int(1000*col_presence))\n",
    "            pbar.close()\n",
    "            \n",
    "    return df.drop(columns = drop_cols)"
   ]
  },
  {
   "cell_type": "markdown",
   "id": "4af8f333",
   "metadata": {},
   "source": [
    "## Global variables"
   ]
  },
  {
   "cell_type": "code",
   "execution_count": 3,
   "id": "d76d6d20",
   "metadata": {},
   "outputs": [],
   "source": [
    "METADATA_PATH = '../../DATA/PREPROCESSED/metadata-v1-2.json'"
   ]
  },
  {
   "cell_type": "markdown",
   "id": "54163e00",
   "metadata": {},
   "source": [
    "# Code\n",
    "## Load data"
   ]
  },
  {
   "cell_type": "code",
   "execution_count": 4,
   "id": "54159316",
   "metadata": {
    "scrolled": true
   },
   "outputs": [
    {
     "data": {
      "text/plain": [
       "110562"
      ]
     },
     "execution_count": 4,
     "metadata": {},
     "output_type": "execute_result"
    }
   ],
   "source": [
    "df = pd.read_json(METADATA_PATH)\n",
    "len(df)"
   ]
  },
  {
   "cell_type": "code",
   "execution_count": 5,
   "id": "7c9461f1",
   "metadata": {},
   "outputs": [],
   "source": [
    "df_ = df.drop(columns = ['pub_date', 'pub_place', 'pub_loc_lat', 'pub_loc_region',\n",
    "              'pub_loc_country', 'pub_loc_lon', 'coverage_detail', 'pub_loc_detail',\n",
    "              'coverage_lat', 'coverage_lon', 'coverage_lon', 'coverage_country', 'community_id']).rename(\n",
    "    columns={'pub_date_m': 'publication_year', 'pub_loc_placename': 'publication_placename',\n",
    "             'len': 'n_items', 'print': 'technique'})"
   ]
  },
  {
   "cell_type": "markdown",
   "id": "6fa39cda",
   "metadata": {},
   "source": [
    "## Columns"
   ]
  },
  {
   "cell_type": "code",
   "execution_count": 6,
   "id": "392927f4",
   "metadata": {},
   "outputs": [
    {
     "name": "stdout",
     "output_type": "stream",
     "text": [
      "Length: 110562\n"
     ]
    },
    {
     "name": "stderr",
     "output_type": "stream",
     "text": [
      "uid                      : 100%|██████████| 1000/1000 [00:00<00:00, 3059302.70it/s]\n",
      "publication_year         : 100%|██████████| 1000/1000 [00:00<00:00, 2874779.99it/s]\n",
      "publication_placename    : 100%|██████████| 1000/1000 [00:00<00:00, 9619963.30it/s]\n",
      "coverage_placename       :  50%|█████     | 504/1000 [00:00<00:00, 1419697.26it/s]\n",
      "publisher                :  67%|██████▋   | 671/1000 [00:00<00:00, 5595184.86it/s]\n",
      "creator                  :  77%|███████▋  | 773/1000 [00:00<00:00, 10325468.13it/s]\n",
      "scale                    :  40%|████      | 401/1000 [00:00<00:00, 673844.51it/s]\n",
      "dimension                :  32%|███▏      | 318/1000 [00:00<00:00, 4958322.20it/s]\n",
      "technique                :  19%|█▊        | 186/1000 [00:00<00:00, 600108.11it/s]\n",
      "n_items                  : 100%|██████████| 1000/1000 [00:00<00:00, 3344740.03it/s]\n",
      "institution              : 100%|██████████| 1000/1000 [00:00<00:00, 12826617.74it/s]\n",
      "images_url               : 100%|██████████| 1000/1000 [00:00<00:00, 6026298.85it/s]\n"
     ]
    }
   ],
   "source": [
    "displayCols(df_[['uid', 'publication_year', 'publication_placename', 'coverage_placename',\n",
    "                 'publisher', 'creator', 'scale', 'dimension', 'technique', 'n_items',\n",
    "                 'institution', 'images_url']]);"
   ]
  },
  {
   "cell_type": "code",
   "execution_count": 7,
   "id": "983e012a",
   "metadata": {},
   "outputs": [
    {
     "name": "stdout",
     "output_type": "stream",
     "text": [
      "All fields complete:  1275\n"
     ]
    }
   ],
   "source": [
    "print('All fields complete: ', len(df.dropna()))"
   ]
  },
  {
   "cell_type": "markdown",
   "id": "8faf765d",
   "metadata": {},
   "source": [
    "## Publication year"
   ]
  },
  {
   "cell_type": "code",
   "execution_count": 8,
   "id": "ae9fa12e",
   "metadata": {},
   "outputs": [
    {
     "data": {
      "image/png": "[encoded data removed]",
      "text/plain": [
       "<Figure size 640x480 with 1 Axes>"
      ]
     },
     "metadata": {},
     "output_type": "display_data"
    }
   ],
   "source": [
    "df['pub_date_m'].hist(bins = 455);\n",
    "plt.xlabel('Year of publication');"
   ]
  },
  {
   "cell_type": "markdown",
   "id": "4b8561ce",
   "metadata": {},
   "source": [
    "### Publication place, conservation institution and location represented\n",
    "#### Country of publication"
   ]
  },
  {
   "cell_type": "code",
   "execution_count": 9,
   "id": "1d4df003",
   "metadata": {
    "scrolled": true
   },
   "outputs": [
    {
     "data": {
      "text/plain": [
       "pub_loc_country\n",
       "['US']          40122\n",
       "['FR']          36764\n",
       "['DE']          13775\n",
       "['NL']          10192\n",
       "['ID']           5179\n",
       "['CH']           4070\n",
       "['GB', 'US']      101\n",
       "['FR', 'US']       50\n",
       "['CH', 'FR']       27\n",
       "['DE', 'US']       26\n",
       "Name: count, dtype: int64"
      ]
     },
     "execution_count": 9,
     "metadata": {},
     "output_type": "execute_result"
    }
   ],
   "source": [
    "df['pub_loc_country'].astype(str).value_counts()[:10]"
   ]
  },
  {
   "cell_type": "markdown",
   "id": "e7334e6c",
   "metadata": {},
   "source": [
    "#### Country of the geographical location covered"
   ]
  },
  {
   "cell_type": "code",
   "execution_count": 10,
   "id": "36569649",
   "metadata": {},
   "outputs": [
    {
     "data": {
      "text/plain": [
       "coverage_country\n",
       "None      63199\n",
       "['US']    17421\n",
       "['FR']    12645\n",
       "['DE']     2735\n",
       "['CH']     2001\n",
       "['IT']     1413\n",
       "['EG']     1123\n",
       "['NL']      941\n",
       "['GB']      828\n",
       "['CN']      500\n",
       "['ES']      437\n",
       "['GR']      387\n",
       "['ID']      369\n",
       "['PL']      365\n",
       "['CA']      342\n",
       "Name: count, dtype: int64"
      ]
     },
     "execution_count": 10,
     "metadata": {},
     "output_type": "execute_result"
    }
   ],
   "source": [
    "df['coverage_country'].astype(str).value_counts()[:15]"
   ]
  },
  {
   "cell_type": "code",
   "execution_count": 11,
   "id": "40543e03",
   "metadata": {},
   "outputs": [
    {
     "name": "stdout",
     "output_type": "stream",
     "text": [
      "Proportion of the maps representing a location in the country where they were published: 66%\n"
     ]
    }
   ],
   "source": [
    "country_subset = df.dropna(subset=['pub_loc_country', 'coverage_country'])\n",
    "\n",
    "ratio = np.sum(country_subset['pub_loc_country'] == country_subset['coverage_country'])/len(country_subset)\n",
    "print(f\"Proportion of the maps representing a location in the country where they were published: {ratio:.0%}\")"
   ]
  },
  {
   "cell_type": "markdown",
   "id": "81136555",
   "metadata": {},
   "source": [
    "#### Top publication cities"
   ]
  },
  {
   "cell_type": "code",
   "execution_count": 12,
   "id": "42ecce11",
   "metadata": {},
   "outputs": [
    {
     "data": {
      "text/plain": [
       "pub_loc_placename\n",
       "['Paris, France']             34451\n",
       "['New York, NY, USA']         15557\n",
       "['Philadelphia, PA, USA']      9924\n",
       "['Amsterdam, Netherlands']     8439\n",
       "['Berlin, Germany']            5194\n",
       "['Jakarta, Indonesia']         4961\n",
       "['Boston, MA, USA']            2639\n",
       "['Leipzig, Germany']           2578\n",
       "['Zürich, Switzerland']        1882\n",
       "['Cologne, Germany']           1437\n",
       "Name: count, dtype: int64"
      ]
     },
     "execution_count": 12,
     "metadata": {},
     "output_type": "execute_result"
    }
   ],
   "source": [
    "df['pub_loc_placename'].astype(str).value_counts()[:10]"
   ]
  },
  {
   "cell_type": "markdown",
   "id": "6881cd7c",
   "metadata": {},
   "source": [
    "#### Top places covered"
   ]
  },
  {
   "cell_type": "code",
   "execution_count": 15,
   "id": "c7a478a0",
   "metadata": {},
   "outputs": [
    {
     "data": {
      "text/plain": [
       "coverage_placename\n",
       "['France']                   5037\n",
       "['Île-de-France, France']    1796\n",
       "['United States']            1730\n",
       "['Europe']                   1471\n",
       "['Germany']                  1345\n",
       "['New Jersey, USA']          1045\n",
       "['New York, NY, USA']        1036\n",
       "['Egypt', 'Nile']             852\n",
       "['Italy']                     722\n",
       "['Paris, France']             687\n",
       "['Africa']                    555\n",
       "Name: count, dtype: int64"
      ]
     },
     "execution_count": 15,
     "metadata": {},
     "output_type": "execute_result"
    }
   ],
   "source": [
    "df['coverage_placename'].astype(str).value_counts()[1:12]"
   ]
  },
  {
   "cell_type": "markdown",
   "id": "386848fd",
   "metadata": {},
   "source": [
    "### Map scales"
   ]
  },
  {
   "cell_type": "code",
   "execution_count": 22,
   "id": "2c9c4d80",
   "metadata": {
    "scrolled": false
   },
   "outputs": [
    {
     "data": {
      "image/png": "[encoded data removed]",
      "text/plain": [
       "<Figure size 640x480 with 1 Axes>"
      ]
     },
     "metadata": {},
     "output_type": "display_data"
    }
   ],
   "source": [
    "df['scale'].dropna().apply(np.mean).apply(np.log10).hist(bins=100, range=(2, 7.31));\n",
    "plt.xticks([2, 3, 4, 5, 6, 7], [r'$10^2$', r'$10^3$', r'$10^4$', r'$10^5$', r'$10^6$', r'$10^7$']);\n",
    "plt.xlabel('Map Scale [1:x]');"
   ]
  },
  {
   "cell_type": "markdown",
   "id": "f4ceb2b1",
   "metadata": {},
   "source": [
    "### Curating institutions"
   ]
  },
  {
   "cell_type": "code",
   "execution_count": 23,
   "id": "bbbf4ad5",
   "metadata": {
    "scrolled": true
   },
   "outputs": [
    {
     "data": {
      "text/plain": [
       "institution\n",
       "davidrumsey            47070\n",
       "bnf                    24443\n",
       "loc                    11472\n",
       "unileiden               7195\n",
       "nypl                    6053\n",
       "erara                   5268\n",
       "bostonleventhal         3001\n",
       "princeton               2342\n",
       "bordeaux_montaigne      1006\n",
       "wwu_munster              646\n",
       "unihalle                 628\n",
       "uva                      421\n",
       "munchen_digital_lib      415\n",
       "emanuscripta             282\n",
       "berkeleylib              209\n",
       "illinois                 111\n",
       "Name: count, dtype: int64"
      ]
     },
     "execution_count": 23,
     "metadata": {},
     "output_type": "execute_result"
    }
   ],
   "source": [
    "df['institution'].value_counts()"
   ]
  },
  {
   "cell_type": "markdown",
   "id": "228947ec",
   "metadata": {},
   "source": [
    "### Authorship (top creators)"
   ]
  },
  {
   "cell_type": "code",
   "execution_count": 29,
   "id": "84a2a9fc",
   "metadata": {},
   "outputs": [
    {
     "data": {
      "text/html": [
       "<div>\n",
       "<style scoped>\n",
       "    .dataframe tbody tr th:only-of-type {\n",
       "        vertical-align: middle;\n",
       "    }\n",
       "\n",
       "    .dataframe tbody tr th {\n",
       "        vertical-align: top;\n",
       "    }\n",
       "\n",
       "    .dataframe thead th {\n",
       "        text-align: right;\n",
       "    }\n",
       "</style>\n",
       "<table border=\"1\" class=\"dataframe\">\n",
       "  <thead>\n",
       "    <tr style=\"text-align: right;\">\n",
       "      <th></th>\n",
       "      <th>count</th>\n",
       "    </tr>\n",
       "    <tr>\n",
       "      <th>creator</th>\n",
       "      <th></th>\n",
       "    </tr>\n",
       "  </thead>\n",
       "  <tbody>\n",
       "    <tr>\n",
       "      <th>['Blaeu, Joan']</th>\n",
       "      <td>768</td>\n",
       "    </tr>\n",
       "    <tr>\n",
       "      <th>[\"Commission des sciences et arts d'Egypte\", 'Conte, Nicolas', 'Panckoucke, C. L. F. (Charles Louis Fleury)']</th>\n",
       "      <td>756</td>\n",
       "    </tr>\n",
       "    <tr>\n",
       "      <th>['Braun, Georg', 'Hoefnagel, Joris', 'Hogenberg, Franz']</th>\n",
       "      <td>754</td>\n",
       "    </tr>\n",
       "    <tr>\n",
       "      <th>['Chatelain Henri', 'Gueudeville, Nicolas']</th>\n",
       "      <td>752</td>\n",
       "    </tr>\n",
       "    <tr>\n",
       "      <th>['Fer, Nicolas de']</th>\n",
       "      <td>699</td>\n",
       "    </tr>\n",
       "    <tr>\n",
       "      <th>['G.W. Bromley &amp; Co.']</th>\n",
       "      <td>698</td>\n",
       "    </tr>\n",
       "    <tr>\n",
       "      <th>['Sanson, Nicolas']</th>\n",
       "      <td>656</td>\n",
       "    </tr>\n",
       "    <tr>\n",
       "      <th>['Hondius, Hendrik', 'Hondius, Jodocus', 'Mercator, Gerhard']</th>\n",
       "      <td>601</td>\n",
       "    </tr>\n",
       "    <tr>\n",
       "      <th>['Bellin, Jacques Nicolas', 'J. Arrivet']</th>\n",
       "      <td>591</td>\n",
       "    </tr>\n",
       "    <tr>\n",
       "      <th>['Mitchell, Samuel Augustus']</th>\n",
       "      <td>566</td>\n",
       "    </tr>\n",
       "  </tbody>\n",
       "</table>\n",
       "</div>"
      ],
      "text/plain": [
       "                                                    count\n",
       "creator                                                  \n",
       "['Blaeu, Joan']                                       768\n",
       "[\"Commission des sciences et arts d'Egypte\", 'C...    756\n",
       "['Braun, Georg', 'Hoefnagel, Joris', 'Hogenberg...    754\n",
       "['Chatelain Henri', 'Gueudeville, Nicolas']           752\n",
       "['Fer, Nicolas de']                                   699\n",
       "['G.W. Bromley & Co.']                                698\n",
       "['Sanson, Nicolas']                                   656\n",
       "['Hondius, Hendrik', 'Hondius, Jodocus', 'Merca...    601\n",
       "['Bellin, Jacques Nicolas', 'J. Arrivet']             591\n",
       "['Mitchell, Samuel Augustus']                         566"
      ]
     },
     "execution_count": 29,
     "metadata": {},
     "output_type": "execute_result"
    }
   ],
   "source": [
    "creators = df['creator'].astype('str').value_counts()[5:]\n",
    "pd.DataFrame(creators).head(10)"
   ]
  },
  {
   "cell_type": "code",
   "execution_count": null,
   "id": "62d888af",
   "metadata": {},
   "outputs": [],
   "source": []
  },
  {
   "cell_type": "code",
   "execution_count": null,
   "id": "8a305530",
   "metadata": {},
   "outputs": [],
   "source": []
  },
  {
   "cell_type": "code",
   "execution_count": null,
   "id": "c84fbd7f",
   "metadata": {},
   "outputs": [],
   "source": []
  },
  {
   "cell_type": "code",
   "execution_count": null,
   "id": "1ab8cd58",
   "metadata": {},
   "outputs": [],
   "source": []
  },
  {
   "cell_type": "code",
   "execution_count": null,
   "id": "e840bac9",
   "metadata": {},
   "outputs": [],
   "source": []
  }
 ],
 "metadata": {
  "kernelspec": {
   "display_name": "Python 3",
   "language": "python",
   "name": "python3"
  },
  "language_info": {
   "codemirror_mode": {
    "name": "ipython",
    "version": 3
   },
   "file_extension": ".py",
   "mimetype": "text/x-python",
   "name": "python",
   "nbconvert_exporter": "python",
   "pygments_lexer": "ipython3",
   "version": "3.8.3"
  }
 },
 "nbformat": 4,
 "nbformat_minor": 5
}
